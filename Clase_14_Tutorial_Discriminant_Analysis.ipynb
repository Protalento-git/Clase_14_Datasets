{
  "nbformat": 4,
  "nbformat_minor": 0,
  "metadata": {
    "colab": {
      "name": "Clase 14 - Tutorial Discriminant Analysis.ipynb",
      "provenance": [],
      "authorship_tag": "ABX9TyPFJr/ToU5IQX/bwYNHaG2z",
      "include_colab_link": true
    },
    "kernelspec": {
      "name": "python3",
      "display_name": "Python 3"
    },
    "language_info": {
      "name": "python"
    }
  },
  "cells": [
    {
      "cell_type": "markdown",
      "metadata": {
        "id": "view-in-github",
        "colab_type": "text"
      },
      "source": [
        "<a href=\"https://colab.research.google.com/github/Protalento-git/Clase_14_Datasets/blob/main/Clase_14_Tutorial_Discriminant_Analysis.ipynb\" target=\"_parent\"><img src=\"https://colab.research.google.com/assets/colab-badge.svg\" alt=\"Open In Colab\"/></a>"
      ]
    },
    {
      "cell_type": "code",
      "metadata": {
        "colab": {
          "base_uri": "https://localhost:8080/"
        },
        "id": "m0cG2_NCv2Yd",
        "outputId": "b0e64a81-bf93-457c-ed5a-dcd93d4783e1"
      },
      "source": [
        "!git clone https://github.com/Protalento-git/Clase_14_Datasets"
      ],
      "execution_count": 1,
      "outputs": [
        {
          "output_type": "stream",
          "text": [
            "Cloning into 'Clase_14_Datasets'...\n",
            "remote: Enumerating objects: 108, done.\u001b[K\n",
            "remote: Counting objects: 100% (108/108), done.\u001b[K\n",
            "remote: Compressing objects: 100% (106/106), done.\u001b[K\n",
            "remote: Total 108 (delta 0), reused 0 (delta 0), pack-reused 0\u001b[K\n",
            "Receiving objects: 100% (108/108), 347.53 KiB | 1.88 MiB/s, done.\n"
          ],
          "name": "stdout"
        }
      ]
    },
    {
      "cell_type": "code",
      "metadata": {
        "id": "i6jVw1Ly_QNj"
      },
      "source": [
        "import pandas as pd\n",
        "import matplotlib.pyplot as plt\n",
        "import numpy as np\n",
        "import sklearn.discriminant_analysis\n",
        "import glob"
      ],
      "execution_count": 55,
      "outputs": []
    },
    {
      "cell_type": "markdown",
      "metadata": {
        "id": "KyC6GdajAgRh"
      },
      "source": [
        "Primer paso: Cargar los datos."
      ]
    },
    {
      "cell_type": "code",
      "metadata": {
        "colab": {
          "base_uri": "https://localhost:8080/"
        },
        "id": "jVv0_z7lAW0P",
        "outputId": "308ebe08-466b-4578-f666-19ad3c0f4d4a"
      },
      "source": [
        "number_files = 79\n",
        "y= np.ones(number_files)\n",
        "images = []\n",
        "for i in range(number_files):\n",
        "  if ((i!=7) and (i!=8)):\n",
        "    images.append(plt.imread(\"Clase_14_Datasets/train/{}.jpg\".format(i+1)).flatten())\n",
        "    y[i] = i%2\n",
        "\n",
        "y=np.delete(y,7,0)\n",
        "y=np.delete(y,7,0)\n",
        "print(np.shape(images), np.shape(y))\n"
      ],
      "execution_count": 52,
      "outputs": [
        {
          "output_type": "stream",
          "text": [
            "(77, 30000) (77,)\n"
          ],
          "name": "stdout"
        }
      ]
    },
    {
      "cell_type": "code",
      "metadata": {
        "colab": {
          "base_uri": "https://localhost:8080/"
        },
        "id": "3CH9VzP2CB-X",
        "outputId": "6b58d887-1ad9-4749-ef28-171f8ceefbd9"
      },
      "source": [
        "print (y)\n",
        "print (len(y))"
      ],
      "execution_count": 53,
      "outputs": [
        {
          "output_type": "stream",
          "text": [
            "[0. 1. 0. 1. 0. 1. 0. 1. 0. 1. 0. 1. 0. 1. 0. 1. 0. 1. 0. 1. 0. 1. 0. 1.\n",
            " 0. 1. 0. 1. 0. 1. 0. 1. 0. 1. 0. 1. 0. 1. 0. 1. 0. 1. 0. 1. 0. 1. 0. 1.\n",
            " 0. 1. 0. 1. 0. 1. 0. 1. 0. 1. 0. 1. 0. 1. 0. 1. 0. 1. 0. 1. 0. 1. 0. 1.\n",
            " 0. 1. 0. 1. 0.]\n",
            "77\n"
          ],
          "name": "stdout"
        }
      ]
    },
    {
      "cell_type": "code",
      "metadata": {
        "colab": {
          "base_uri": "https://localhost:8080/"
        },
        "id": "hv9z1hPUDvW2",
        "outputId": "57aebbb6-18e7-40a1-a139-53d2b0751b50"
      },
      "source": [
        "#Entrenamiento\n",
        "entren = sklearn.discriminant_analysis.LinearDiscriminantAnalysis()\n",
        "entren.fit(images, y)"
      ],
      "execution_count": 54,
      "outputs": [
        {
          "output_type": "execute_result",
          "data": {
            "text/plain": [
              "LinearDiscriminantAnalysis(n_components=None, priors=None, shrinkage=None,\n",
              "                           solver='svd', store_covariance=False, tol=0.0001)"
            ]
          },
          "metadata": {
            "tags": []
          },
          "execution_count": 54
        }
      ]
    },
    {
      "cell_type": "code",
      "metadata": {
        "colab": {
          "base_uri": "https://localhost:8080/"
        },
        "id": "_Qwl25kiJY10",
        "outputId": "7074a703-0ddf-4ee7-a83b-3d9dd1a811a4"
      },
      "source": [
        "#Predicting\n",
        "archivos = glob.glob(\"Clase_14_Datasets/test/*.jpg\")\n",
        "num = len(archivos)\n",
        "test_images = []\n",
        "for file in archivos:\n",
        "  test_images.append(plt.imread(file).flatten())\n",
        "target = np.array(test_images)\n",
        "predict = entren.predict(test_images)\n",
        "print (archivos)"
      ],
      "execution_count": 82,
      "outputs": [
        {
          "output_type": "stream",
          "text": [
            "19\n"
          ],
          "name": "stdout"
        }
      ]
    },
    {
      "cell_type": "code",
      "metadata": {
        "id": "Rza89dvPKZpK"
      },
      "source": [
        "#Escribir\n",
        "np.savetxt('Clase_14_Datasets/output.csv',predict, delimiter = ',')\n"
      ],
      "execution_count": 78,
      "outputs": []
    },
    {
      "cell_type": "code",
      "metadata": {
        "colab": {
          "base_uri": "https://localhost:8080/"
        },
        "id": "xzjyfaqfOqA6",
        "outputId": "c110b0cb-b758-4723-870c-dfda9e37bb60"
      },
      "source": [
        "verdad = pd.read_csv('Clase_14_Datasets/test/truth_test.csv')\n",
        "verdad=verdad.iloc[:-1]\n",
        "f1_0= sklearn.metrics.f1_score(verdad['Target'],predict, pos_label=0)\n",
        "print(f1_0)\n",
        "f1_1= sklearn.metrics.f1_score(verdad['Target'],predict, pos_label=1)\n",
        "print(f1_1)"
      ],
      "execution_count": 88,
      "outputs": [
        {
          "output_type": "stream",
          "text": [
            "0.7272727272727274\n",
            "0.625\n"
          ],
          "name": "stdout"
        }
      ]
    },
    {
      "cell_type": "code",
      "metadata": {
        "id": "dPccKE_qOdqI"
      },
      "source": [
        ""
      ],
      "execution_count": null,
      "outputs": []
    }
  ]
}